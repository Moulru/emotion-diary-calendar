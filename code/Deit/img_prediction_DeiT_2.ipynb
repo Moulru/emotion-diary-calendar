{
 "cells": [
  {
   "cell_type": "code",
   "execution_count": 26,
   "id": "4c23c569",
   "metadata": {},
   "outputs": [
    {
     "name": "stdout",
     "output_type": "stream",
     "text": [
      "✅ 사용 디바이스: cuda\n"
     ]
    }
   ],
   "source": [
    "import torch\n",
    "import torch.nn as nn\n",
    "import torch.optim as optim\n",
    "from torchvision import datasets, transforms\n",
    "from torch.utils.data import DataLoader\n",
    "import timm\n",
    "from timm.scheduler import CosineLRScheduler\n",
    "from sklearn.metrics import classification_report, confusion_matrix, ConfusionMatrixDisplay, accuracy_score\n",
    "import matplotlib.pyplot as plt\n",
    "from tqdm import tqdm\n",
    "from collections import Counter\n",
    "from torch.utils.data import WeightedRandomSampler\n",
    "from torch.utils.data import ConcatDataset\n",
    "from collections import Counter\n",
    "\n",
    "\n",
    "DEVICE = torch.device(\"cuda\" if torch.cuda.is_available() else \"cpu\")\n",
    "print(f\"✅ 사용 디바이스: {DEVICE}\")"
   ]
  },
  {
   "cell_type": "code",
   "execution_count": 27,
   "id": "b9411416",
   "metadata": {},
   "outputs": [
    {
     "name": "stdout",
     "output_type": "stream",
     "text": [
      "✅ GPU 사용 여부: True\n",
      "🖥️ GPU 이름: NVIDIA RTX 4000 Ada Generation\n"
     ]
    }
   ],
   "source": [
    "print(\"✅ GPU 사용 여부:\", torch.cuda.is_available())\n",
    "if torch.cuda.is_available():\n",
    "    print(\"🖥️ GPU 이름:\", torch.cuda.get_device_name(0))"
   ]
  },
  {
   "cell_type": "code",
   "execution_count": null,
   "id": "e3d619cf",
   "metadata": {},
   "outputs": [],
   "source": [
    "BATCH_SIZE = 32\n",
    "NUM_CLASSES = 4\n",
    "EPOCHS_PRETRAIN = 30\n",
    "EPOCHS_FINETUNE = 30\n",
    "PATIENCE = 10\n",
    "MODEL_NAME = 'vit_base_patch16_224'\n",
    "LR_PRETRAIN = 5e-5\n",
    "LR_FINETUNE = 5e-6\n",
    "DROPOUT = 0.5\n",
    "\n",
    "# === 경로 설정 ===\n",
    "photo_train = \"/workspace/datasets/dataset2yolo/photo/train\"\n",
    "photo_val = \"/workspace/datasets/dataset2yolo/photo/val\"\n",
    "drawing_train1 = \"/workspace/datasets/dataset2yolo/drawing/train\"\n",
    "drawing_train2 = \"/workspace/datasets/dataset2yolo/test_AI\"\n",
    "drawing_val = \"/workspace/datasets/dataset2yolo/drawing/val\"\n",
    "photo_model_path = \"/workspace/models/DeiT/Deit_pretrained_photo_ai.pth\"\n",
    "drawing_model_path = \"/workspace/models/DeiT/Deit_finetuned_drawing_ai.pth\"\n",
    "\n",
    "# === ImageNet 정규화 ===\n",
    "mean = [0.485, 0.456, 0.406]\n",
    "std = [0.229, 0.224, 0.225]"
   ]
  },
  {
   "cell_type": "code",
   "execution_count": null,
   "id": "6f744d6f",
   "metadata": {},
   "outputs": [],
   "source": [
    "# === 데이터 증강 ===\n",
    "train_transform = transforms.Compose([\n",
    "    transforms.Resize(256),\n",
    "    transforms.RandomCrop(224, padding=8),\n",
    "    transforms.RandomHorizontalFlip(),\n",
    "    transforms.RandomRotation(30),  # 약하게 조정\n",
    "    transforms.ColorJitter(brightness=0.1, contrast=0.1),  # 강도 낮춤\n",
    "    transforms.ToTensor(),\n",
    "    transforms.Normalize(mean, std)\n",
    "])\n",
    "\n",
    "val_transform = transforms.Compose([\n",
    "    transforms.Resize(256),\n",
    "    transforms.CenterCrop(224),\n",
    "    transforms.ToTensor(),\n",
    "    transforms.Normalize(mean, std)\n",
    "])"
   ]
  },
  {
   "cell_type": "code",
   "execution_count": 30,
   "id": "bed58dca",
   "metadata": {},
   "outputs": [],
   "source": [
    "def get_dataloaders(train_dir1, val_dir, train_dir2=None, use_weight=False):\n",
    "    from torchvision import datasets\n",
    "    from torch.utils.data import ConcatDataset\n",
    "\n",
    "    # ✅ 1. train 데이터셋 만들기\n",
    "    dataset1 = datasets.ImageFolder(train_dir1, transform=train_transform)\n",
    "\n",
    "    if train_dir2:\n",
    "        dataset2 = datasets.ImageFolder(train_dir2, transform=train_transform)\n",
    "        train_dataset = ConcatDataset([dataset1, dataset2])\n",
    "        train_dataset.classes = dataset1.classes  # class name 유지\n",
    "        train_dataset.class_to_idx = dataset1.class_to_idx\n",
    "    else:\n",
    "        train_dataset = dataset1\n",
    "\n",
    "    # ✅ 2. validation 데이터셋\n",
    "    val_dataset = datasets.ImageFolder(val_dir, transform=val_transform)\n",
    "\n",
    "    # ✅ 3. 클래스 가중치 계산\n",
    "    if use_weight:\n",
    "        if train_dir2:\n",
    "            targets = [label for ds in [dataset1, dataset2] for _, label in ds.samples]\n",
    "        else:\n",
    "            targets = [label for _, label in train_dataset.samples]\n",
    "\n",
    "        class_counts = Counter(targets)\n",
    "        class_weights = [1.0 / class_counts[t] for t in targets]\n",
    "        sampler = WeightedRandomSampler(class_weights, num_samples=len(class_weights), replacement=True)\n",
    "        train_loader = DataLoader(train_dataset, batch_size=BATCH_SIZE, sampler=sampler, num_workers=8, pin_memory=True)\n",
    "        weight_tensor = torch.tensor([1.0 / class_counts[i] for i in range(NUM_CLASSES)], dtype=torch.float32).to(DEVICE)\n",
    "    else:\n",
    "        train_loader = DataLoader(train_dataset, batch_size=BATCH_SIZE, shuffle=True, num_workers=8, pin_memory=True)\n",
    "        weight_tensor = None\n",
    "\n",
    "    val_loader = DataLoader(val_dataset, batch_size=BATCH_SIZE, shuffle=False, num_workers=8, pin_memory=True)\n",
    "    return train_loader, val_loader, dataset1.classes, weight_tensor\n"
   ]
  },
  {
   "cell_type": "code",
   "execution_count": 31,
   "id": "7426127d",
   "metadata": {},
   "outputs": [],
   "source": [
    "def train_model(model, train_loader, val_loader, save_path, epochs, lr, class_weights=None):\n",
    "    class FocalLoss(nn.Module):\n",
    "        def __init__(self, alpha=1, gamma=2, weight=None):\n",
    "            super().__init__()\n",
    "            self.alpha = alpha\n",
    "            self.gamma = gamma\n",
    "            self.ce = nn.CrossEntropyLoss(weight=weight)\n",
    "\n",
    "        def forward(self, inputs, targets):\n",
    "            logp = self.ce(inputs, targets)\n",
    "            p = torch.exp(-logp)\n",
    "            loss = self.alpha * (1 - p) ** self.gamma * logp\n",
    "            return loss\n",
    "\n",
    "    criterion = FocalLoss(alpha=1, gamma=2, weight=class_weights)\n",
    "    optimizer = optim.AdamW(model.parameters(), lr=lr, weight_decay=0.01)\n",
    "    scheduler = CosineLRScheduler(optimizer, t_initial=epochs, lr_min=1e-6,\n",
    "                                   warmup_t=5, warmup_lr_init=1e-6, cycle_limit=1)\n",
    "\n",
    "    best_val_acc = 0\n",
    "    patience_counter = 0\n",
    "\n",
    "    # ⬇️ 추적용 리스트\n",
    "    train_losses, val_losses = [], []\n",
    "    train_accs, val_accs = [], []\n",
    "\n",
    "    all_preds, all_labels = [], []\n",
    "\n",
    "    for epoch in range(epochs):\n",
    "        model.train()\n",
    "        train_loss, train_correct = 0, 0\n",
    "        print(f\"\\n📘 Epoch {epoch+1}/{epochs}\")\n",
    "\n",
    "        for imgs, labels in tqdm(train_loader, desc=\"🟦 Training\", leave=False):\n",
    "            imgs, labels = imgs.to(DEVICE), labels.to(DEVICE)\n",
    "            outputs = model(imgs)\n",
    "            loss = criterion(outputs, labels)\n",
    "\n",
    "            optimizer.zero_grad()\n",
    "            loss.backward()\n",
    "            optimizer.step()\n",
    "\n",
    "            train_loss += loss.item()\n",
    "            train_correct += (outputs.argmax(1) == labels).sum().item()\n",
    "\n",
    "        train_acc = train_correct / len(train_loader.dataset)\n",
    "\n",
    "        # 🔸 검증 단계\n",
    "        model.eval()\n",
    "        val_loss, val_correct = 0, 0\n",
    "        all_preds, all_labels = [], []\n",
    "        for imgs, labels in tqdm(val_loader, desc=\"🟨 Validating\", leave=False):\n",
    "            imgs, labels = imgs.to(DEVICE), labels.to(DEVICE)\n",
    "            outputs = model(imgs)\n",
    "            loss = criterion(outputs, labels)\n",
    "\n",
    "            val_loss += loss.item()\n",
    "            val_correct += (outputs.argmax(1) == labels).sum().item()\n",
    "            all_preds.extend(outputs.argmax(1).cpu().numpy())\n",
    "            all_labels.extend(labels.cpu().numpy())\n",
    "\n",
    "        val_acc = val_correct / len(val_loader.dataset)\n",
    "        scheduler.step(epoch + 1)\n",
    "\n",
    "        # 🔹 출력\n",
    "        print(f\"📊 Epoch {epoch+1}: \"\n",
    "              f\"Train Loss = {train_loss/len(train_loader):.4f}, \"\n",
    "              f\"Train Acc = {train_acc:.4f} | \"\n",
    "              f\"Val Loss = {val_loss/len(val_loader):.4f}, \"\n",
    "              f\"Val Acc = {val_acc:.4f}\")\n",
    "\n",
    "        # 🔹 리스트 저장\n",
    "        train_losses.append(train_loss / len(train_loader))\n",
    "        val_losses.append(val_loss / len(val_loader))\n",
    "        train_accs.append(train_acc)\n",
    "        val_accs.append(val_acc)\n",
    "\n",
    "        # 🔹 Early stopping\n",
    "        if val_acc > best_val_acc:\n",
    "            best_val_acc = val_acc\n",
    "            torch.save(model.state_dict(), save_path)\n",
    "            patience_counter = 0\n",
    "        else:\n",
    "            patience_counter += 1\n",
    "            if patience_counter >= PATIENCE:\n",
    "                print(\"🛑 Early stopping!\")\n",
    "                break\n",
    "\n",
    "    return all_preds, all_labels, train_losses, val_losses, train_accs, val_accs\n"
   ]
  },
  {
   "cell_type": "code",
   "execution_count": 32,
   "id": "e3693abf",
   "metadata": {},
   "outputs": [],
   "source": [
    "# # === Step 1: 사진 학습 ===\n",
    "# photo_train_loader, photo_val_loader, class_names, _ = get_dataloaders(\n",
    "#     train_dir1=photo_train,\n",
    "#     val_dir=photo_val,\n",
    "#     train_dir2=None,  # 또는 생략 가능\n",
    "#     use_weight=False\n",
    "# )\n",
    "\n",
    "# model = timm.create_model(MODEL_NAME, pretrained=True, num_classes=NUM_CLASSES, drop_rate=DROPOUT)\n",
    "# model.to(DEVICE)\n",
    "\n",
    "# train_model(model, photo_train_loader, photo_val_loader,\n",
    "#             save_path=photo_model_path,\n",
    "#             epochs=EPOCHS_PRETRAIN,\n",
    "#             lr=LR_PRETRAIN,\n",
    "#             class_weights=None)\n"
   ]
  },
  {
   "cell_type": "code",
   "execution_count": null,
   "id": "dd4bd7be",
   "metadata": {},
   "outputs": [
    {
     "name": "stdout",
     "output_type": "stream",
     "text": [
      "\n",
      "📘 Epoch 1/30\n"
     ]
    },
    {
     "name": "stderr",
     "output_type": "stream",
     "text": [
      "                                                              \r"
     ]
    },
    {
     "name": "stdout",
     "output_type": "stream",
     "text": [
      "📊 Epoch 1: Train Loss = 0.8454, Train Acc = 0.2660 | Val Loss = 1.1831, Val Acc = 0.2141\n",
      "\n",
      "📘 Epoch 2/30\n"
     ]
    },
    {
     "name": "stderr",
     "output_type": "stream",
     "text": [
      "                                                              \r"
     ]
    },
    {
     "name": "stdout",
     "output_type": "stream",
     "text": [
      "📊 Epoch 2: Train Loss = 0.4759, Train Acc = 0.5027 | Val Loss = 1.3417, Val Acc = 0.3123\n",
      "\n",
      "📘 Epoch 3/30\n"
     ]
    },
    {
     "name": "stderr",
     "output_type": "stream",
     "text": [
      "                                                              \r"
     ]
    },
    {
     "name": "stdout",
     "output_type": "stream",
     "text": [
      "📊 Epoch 3: Train Loss = 0.2396, Train Acc = 0.7006 | Val Loss = 1.5626, Val Acc = 0.3350\n",
      "\n",
      "📘 Epoch 4/30\n"
     ]
    },
    {
     "name": "stderr",
     "output_type": "stream",
     "text": [
      "                                                              \r"
     ]
    },
    {
     "name": "stdout",
     "output_type": "stream",
     "text": [
      "📊 Epoch 4: Train Loss = 0.1775, Train Acc = 0.7479 | Val Loss = 0.6797, Val Acc = 0.4786\n",
      "\n",
      "📘 Epoch 5/30\n"
     ]
    },
    {
     "name": "stderr",
     "output_type": "stream",
     "text": [
      "                                                              \r"
     ]
    },
    {
     "name": "stdout",
     "output_type": "stream",
     "text": [
      "📊 Epoch 5: Train Loss = 0.1042, Train Acc = 0.7961 | Val Loss = 1.2650, Val Acc = 0.3652\n",
      "\n",
      "📘 Epoch 6/30\n"
     ]
    },
    {
     "name": "stderr",
     "output_type": "stream",
     "text": [
      "                                                              \r"
     ]
    },
    {
     "name": "stdout",
     "output_type": "stream",
     "text": [
      "📊 Epoch 6: Train Loss = 0.0818, Train Acc = 0.8165 | Val Loss = 1.5550, Val Acc = 0.2897\n",
      "\n",
      "📘 Epoch 7/30\n"
     ]
    },
    {
     "name": "stderr",
     "output_type": "stream",
     "text": [
      "                                                              \r"
     ]
    },
    {
     "name": "stdout",
     "output_type": "stream",
     "text": [
      "📊 Epoch 7: Train Loss = 0.0623, Train Acc = 0.8334 | Val Loss = 0.9610, Val Acc = 0.5239\n",
      "\n",
      "📘 Epoch 8/30\n"
     ]
    },
    {
     "name": "stderr",
     "output_type": "stream",
     "text": [
      "                                                              \r"
     ]
    },
    {
     "name": "stdout",
     "output_type": "stream",
     "text": [
      "📊 Epoch 8: Train Loss = 0.0318, Train Acc = 0.8757 | Val Loss = 1.1025, Val Acc = 0.4383\n",
      "\n",
      "📘 Epoch 9/30\n"
     ]
    },
    {
     "name": "stderr",
     "output_type": "stream",
     "text": [
      "                                                              \r"
     ]
    },
    {
     "name": "stdout",
     "output_type": "stream",
     "text": [
      "📊 Epoch 9: Train Loss = 0.0252, Train Acc = 0.8906 | Val Loss = 1.0256, Val Acc = 0.4257\n",
      "\n",
      "📘 Epoch 10/30\n"
     ]
    },
    {
     "name": "stderr",
     "output_type": "stream",
     "text": [
      "                                                              \r"
     ]
    },
    {
     "name": "stdout",
     "output_type": "stream",
     "text": [
      "📊 Epoch 10: Train Loss = 0.0209, Train Acc = 0.8921 | Val Loss = 0.9925, Val Acc = 0.4433\n",
      "\n",
      "📘 Epoch 11/30\n"
     ]
    },
    {
     "name": "stderr",
     "output_type": "stream",
     "text": [
      "                                                              \r"
     ]
    },
    {
     "name": "stdout",
     "output_type": "stream",
     "text": [
      "📊 Epoch 11: Train Loss = 0.0136, Train Acc = 0.9050 | Val Loss = 1.0508, Val Acc = 0.4710\n",
      "\n",
      "📘 Epoch 12/30\n"
     ]
    },
    {
     "name": "stderr",
     "output_type": "stream",
     "text": [
      "                                                              \r"
     ]
    },
    {
     "name": "stdout",
     "output_type": "stream",
     "text": [
      "📊 Epoch 12: Train Loss = 0.0131, Train Acc = 0.9150 | Val Loss = 1.1652, Val Acc = 0.4332\n",
      "\n",
      "📘 Epoch 13/30\n"
     ]
    },
    {
     "name": "stderr",
     "output_type": "stream",
     "text": [
      "                                                              \r"
     ]
    },
    {
     "name": "stdout",
     "output_type": "stream",
     "text": [
      "📊 Epoch 13: Train Loss = 0.0120, Train Acc = 0.9095 | Val Loss = 1.1116, Val Acc = 0.4912\n",
      "\n",
      "📘 Epoch 14/30\n"
     ]
    },
    {
     "name": "stderr",
     "output_type": "stream",
     "text": [
      "                                                              \r"
     ]
    },
    {
     "name": "stdout",
     "output_type": "stream",
     "text": [
      "📊 Epoch 14: Train Loss = 0.0102, Train Acc = 0.9125 | Val Loss = 1.2969, Val Acc = 0.4761\n",
      "\n",
      "📘 Epoch 15/30\n"
     ]
    },
    {
     "name": "stderr",
     "output_type": "stream",
     "text": [
      "🟦 Training:   2%|▏         | 1/63 [00:01<01:12,  1.16s/it]"
     ]
    }
   ],
   "source": [
    "# 🔄 사진 학습은 생략하고 모델만 불러옴\n",
    "model = timm.create_model(MODEL_NAME, pretrained=False, num_classes=NUM_CLASSES, drop_rate=DROPOUT)\n",
    "model.load_state_dict(torch.load(photo_model_path))\n",
    "model.to(DEVICE)\n",
    "\n",
    "# ✅ 그림 데이터 로더 정의\n",
    "drawing_train_loader, drawing_val_loader, _, drawing_weights = get_dataloaders(\n",
    "    drawing_train1, drawing_train2, drawing_val, use_weight=True)\n",
    "\n",
    "# ✅ 파인튜닝만 수행\n",
    "train_model(model,\n",
    "            train_loader=drawing_train_loader,\n",
    "            val_loader=drawing_val_loader,\n",
    "            save_path=drawing_model_path,\n",
    "            epochs=EPOCHS_FINETUNE,\n",
    "            lr=LR_FINETUNE,\n",
    "            class_weights=drawing_weights)\n"
   ]
  },
  {
   "cell_type": "code",
   "execution_count": null,
   "id": "4fa46180",
   "metadata": {},
   "outputs": [],
   "source": [
    "def evaluate_model(model, dataloader, class_names):\n",
    "    model.eval()\n",
    "    all_preds = []\n",
    "    all_labels = []\n",
    "    all_losses = []\n",
    "    criterion = nn.CrossEntropyLoss()\n",
    "\n",
    "    with torch.no_grad():\n",
    "        for imgs, labels in dataloader:\n",
    "            imgs, labels = imgs.to(DEVICE), labels.to(DEVICE)\n",
    "            outputs = model(imgs)\n",
    "            loss = criterion(outputs, labels)\n",
    "\n",
    "            preds = outputs.argmax(1)\n",
    "            all_preds.extend(preds.cpu().numpy())\n",
    "            all_labels.extend(labels.cpu().numpy())\n",
    "            all_losses.append(loss.item())\n",
    "\n",
    "    # ✅ 평균 정확도 및 평균 손실\n",
    "    acc = accuracy_score(all_labels, all_preds)\n",
    "    avg_loss = sum(all_losses) / len(all_losses)\n",
    "\n",
    "    # ✅ 분류 리포트 (Precision, Recall, F1, per class accuracy)\n",
    "    report = classification_report(all_labels, all_preds, target_names=class_names, digits=4)\n",
    "    print(f\"\\n🎯 Final Evaluation\")\n",
    "    print(f\"✅ Average Accuracy: {acc:.4f}\")\n",
    "    print(f\"📉 Average Loss: {avg_loss:.4f}\")\n",
    "    print(\"📊 Classification Report:\")\n",
    "    print(report)\n",
    "\n",
    "    # ✅ Confusion Matrix\n",
    "    cm = confusion_matrix(all_labels, all_preds)\n",
    "    disp = ConfusionMatrixDisplay(confusion_matrix=cm, display_labels=class_names)\n",
    "    disp.plot(cmap=\"Blues\", xticks_rotation=45)\n",
    "    plt.title(\"Confusion Matrix\")\n",
    "    plt.tight_layout()\n",
    "    plt.show()\n"
   ]
  },
  {
   "cell_type": "code",
   "execution_count": null,
   "id": "06a1c6f9",
   "metadata": {},
   "outputs": [],
   "source": [
    "def plot_training_curves(train_losses, val_losses, train_accs, val_accs):\n",
    "        epochs = range(1, len(train_losses) + 1)\n",
    "\n",
    "        plt.figure(figsize=(12, 4))\n",
    "\n",
    "        # 🔹 Loss 그래프\n",
    "        plt.subplot(1, 2, 1)\n",
    "        plt.plot(epochs, train_losses, label='Train Loss')\n",
    "        plt.plot(epochs, val_losses, label='Val Loss')\n",
    "        plt.xlabel(\"Epoch\")\n",
    "        plt.ylabel(\"Loss\")\n",
    "        plt.title(\"Loss Curve\")\n",
    "        plt.legend()\n",
    "        plt.grid(True)\n",
    "\n",
    "        # 🔹 Accuracy 그래프\n",
    "        plt.subplot(1, 2, 2)\n",
    "        plt.plot(epochs, train_accs, label='Train Accuracy')\n",
    "        plt.plot(epochs, val_accs, label='Val Accuracy')\n",
    "        plt.xlabel(\"Epoch\")\n",
    "        plt.ylabel(\"Accuracy\")\n",
    "        plt.title(\"Accuracy Curve\")\n",
    "        plt.legend()\n",
    "        plt.grid(True)\n",
    "\n",
    "        plt.tight_layout()\n",
    "        plt.show()"
   ]
  },
  {
   "cell_type": "code",
   "execution_count": null,
   "id": "29e73b3a",
   "metadata": {},
   "outputs": [
    {
     "name": "stdout",
     "output_type": "stream",
     "text": [
      "📊 Final Result Evaluation\n",
      "\n",
      "🎯 Final Evaluation\n",
      "✅ Average Accuracy: 0.3300\n",
      "📉 Average Loss: 2.1267\n",
      "📊 Classification Report:\n",
      "              precision    recall  f1-score   support\n",
      "\n",
      "       angry     0.3430    0.7108    0.4627        83\n",
      "        fear     0.3333    0.2947    0.3128        95\n",
      "       happy     1.0000    0.2148    0.3536       149\n",
      "         sad     0.1101    0.1714    0.1341        70\n",
      "\n",
      "    accuracy                         0.3300       397\n",
      "   macro avg     0.4466    0.3479    0.3158       397\n",
      "weighted avg     0.5462    0.3300    0.3280       397\n",
      "\n"
     ]
    },
    {
     "data": {
      "image/png": "[encoded data removed]",
      "text/plain": [
       "<Figure size 640x480 with 2 Axes>"
      ]
     },
     "metadata": {},
     "output_type": "display_data"
    }
   ],
   "source": [
    "# === 평가 ===\n",
    "print(\"📊 Final Result Evaluation\")\n",
    "evaluate_model(model, drawing_val_loader, class_names)\n",
    "plot_training_curves(train_losses, val_losses, train_accs, val_accs)"
   ]
  }
 ],
 "metadata": {
  "kernelspec": {
   "display_name": "Python 3",
   "language": "python",
   "name": "python3"
  },
  "language_info": {
   "codemirror_mode": {
    "name": "ipython",
    "version": 3
   },
   "file_extension": ".py",
   "mimetype": "text/x-python",
   "name": "python",
   "nbconvert_exporter": "python",
   "pygments_lexer": "ipython3",
   "version": "3.11.13"
  }
 },
 "nbformat": 4,
 "nbformat_minor": 5
}
