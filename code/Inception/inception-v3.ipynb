{
 "cells": [
  {
   "cell_type": "code",
   "execution_count": 1,
   "metadata": {
    "id": "W8NtCMNx759o"
   },
   "outputs": [],
   "source": [
    "import torch\n",
    "import torch.nn as nn\n",
    "import torch.optim as optim\n",
    "from torchvision import datasets, transforms, models\n",
    "from torch.utils.data import DataLoader, WeightedRandomSampler\n",
    "import matplotlib.pyplot as plt\n",
    "from tqdm import tqdm\n",
    "from collections import Counter\n",
    "from sklearn.metrics import classification_report, confusion_matrix, ConfusionMatrixDisplay, accuracy_score"
   ]
  },
  {
   "cell_type": "code",
   "execution_count": 2,
   "metadata": {},
   "outputs": [
    {
     "name": "stderr",
     "output_type": "stream",
     "text": [
      "/workspace/.conda/lib/python3.11/site-packages/torchvision/models/_utils.py:208: UserWarning: The parameter 'pretrained' is deprecated since 0.13 and may be removed in the future, please use 'weights' instead.\n",
      "  warnings.warn(\n",
      "/workspace/.conda/lib/python3.11/site-packages/torchvision/models/_utils.py:223: UserWarning: Arguments other than a weight enum or `None` for 'weights' are deprecated since 0.13 and may be removed in the future. The current behavior is equivalent to passing `weights=Inception_V3_Weights.IMAGENET1K_V1`. You can also use `weights=Inception_V3_Weights.DEFAULT` to get the most up-to-date weights.\n",
      "  warnings.warn(msg)\n"
     ]
    },
    {
     "name": "stdout",
     "output_type": "stream",
     "text": [
      "✅ 모델이 저장되었습니다: /workspace/models/Inception/inception_pretrained_photo.pth\n"
     ]
    }
   ],
   "source": [
    "import os\n",
    "import torch\n",
    "from torchvision import models\n",
    "\n",
    "# 저장 경로\n",
    "photo_model_path = \"/workspace/models/Inception/inception_pretrained_photo.pth\"\n",
    "\n",
    "# 디렉터리 생성 (이미 존재해도 OK)\n",
    "os.makedirs(os.path.dirname(photo_model_path), exist_ok=True)\n",
    "\n",
    "# 모델 불러오기 및 저장\n",
    "model = models.inception_v3(pretrained=True)\n",
    "torch.save(model.state_dict(), photo_model_path)\n",
    "\n",
    "print(f\"✅ 모델이 저장되었습니다: {photo_model_path}\")"
   ]
  },
  {
   "cell_type": "code",
   "execution_count": 3,
   "metadata": {
    "id": "Vflbvh_N76AA"
   },
   "outputs": [
    {
     "name": "stdout",
     "output_type": "stream",
     "text": [
      "✅ 사용 디바이스: cuda\n",
      "🖥️ GPU 이름: NVIDIA RTX 4000 Ada Generation\n"
     ]
    }
   ],
   "source": [
    "# 디바이스 설정\n",
    "DEVICE = torch.device(\"cuda\" if torch.cuda.is_available() else \"cpu\")\n",
    "print(f\"✅ 사용 디바이스: {DEVICE}\")\n",
    "\n",
    "if torch.cuda.is_available():\n",
    "    print(\"🖥️ GPU 이름:\", torch.cuda.get_device_name(0))"
   ]
  },
  {
   "cell_type": "code",
   "execution_count": 4,
   "metadata": {
    "id": "8Z8NYRrK-4G2"
   },
   "outputs": [],
   "source": [
    "BATCH_SIZE = 32\n",
    "NUM_CLASSES = 4\n",
    "EPOCHS_PRETRAIN = 30\n",
    "EPOCHS_FINETUNE = 30\n",
    "PATIENCE = 5\n",
    "IMG_SIZE = 299\n",
    "LR_PRETRAIN = 5e-5\n",
    "LR_FINETUNE = 1e-5\n",
    "DROPOUT = 0.3\n",
    "\n",
    "# === 경로 설정 ===\n",
    "photo_train = \"/workspace/datasets/dataset2yolo/photo/train\"\n",
    "photo_val = \"/workspace/datasets/dataset2yolo/photo/val\"\n",
    "drawing_train = \"/workspace/datasets/dataset2yolo/drawing/train\"\n",
    "drawing_val = \"/workspace/datasets/dataset2yolo/drawing/val\"\n",
    "photo_model_path = \"/workspace/models/Inception/inception_pretrained_photo.pth\"\n",
    "drawing_model_path = \"/workspace/models/Inception/inception_finetuned_drawing.pth\"\n",
    "\n",
    "# === ImageNet 정규화 ===\n",
    "mean = [0.5, 0.5, 0.5]\n",
    "std = [0.5, 0.5, 0.5]"
   ]
  },
  {
   "cell_type": "code",
   "execution_count": 5,
   "metadata": {
    "id": "pmejU1yR-93G"
   },
   "outputs": [],
   "source": [
    "# === Inception v3용 데이터 증강 ===\n",
    "\n",
    "train_transform = transforms.Compose([\n",
    "    transforms.Resize((342, 342)),\n",
    "    transforms.RandomResizedCrop(299),\n",
    "    transforms.RandomHorizontalFlip(),\n",
    "    transforms.RandomRotation(10),\n",
    "    transforms.RandomAffine(degrees=0, translate=(0.1, 0.1)),\n",
    "    transforms.RandomPerspective(distortion_scale=0.2, p=0.3),\n",
    "    transforms.ColorJitter(0.2, 0.2, 0.2, 0.1),\n",
    "    transforms.ToTensor(),  # ← RandomErasing 이전에 위치\n",
    "    transforms.Normalize(mean, std),\n",
    "    transforms.RandomErasing(p=0.3),  # ← ToTensor() 이후에 위치\n",
    "])\n",
    "\n",
    "val_transform = transforms.Compose([\n",
    "    transforms.Resize((342, 342)),\n",
    "    transforms.CenterCrop(299),\n",
    "    transforms.ToTensor(),\n",
    "    transforms.Normalize(mean, std),\n",
    "])"
   ]
  },
  {
   "cell_type": "code",
   "execution_count": 6,
   "metadata": {
    "id": "9-nhrJfl_CFg"
   },
   "outputs": [],
   "source": [
    "# # === DataLoader 생성 함수 ===\n",
    "# def get_dataloaders(train_dir, val_dir, batch_size=32):\n",
    "#     train_dataset = datasets.ImageFolder(train_dir, transform=train_transform)\n",
    "#     val_dataset = datasets.ImageFolder(val_dir, transform=val_transform)\n",
    "\n",
    "#     train_loader = torch.utils.data.DataLoader(\n",
    "#         train_dataset, \n",
    "#         batch_size=batch_size, \n",
    "#         shuffle=True,\n",
    "#         num_workers=4,  # 데이터 로딩 속도 향상\n",
    "#         pin_memory=True  # GPU 사용 시 성능 향상\n",
    "#     )\n",
    "#     val_loader = torch.utils.data.DataLoader(\n",
    "#         val_dataset, \n",
    "#         batch_size=batch_size, \n",
    "#         shuffle=False,\n",
    "#         num_workers=4,\n",
    "#         pin_memory=True\n",
    "#     )\n",
    "\n",
    "#     class_names = train_dataset.classes\n",
    "#     return train_loader, val_loader, class_names, len(class_names)\n"
   ]
  },
  {
   "cell_type": "code",
   "execution_count": 7,
   "metadata": {
    "id": "gT3mfFJu_JlG"
   },
   "outputs": [],
   "source": [
    "def get_dataloaders(train_dir, val_dir, batch_size=32, use_weight=False):\n",
    "    train_dataset = datasets.ImageFolder(train_dir, transform=train_transform)\n",
    "    val_dataset = datasets.ImageFolder(val_dir, transform=val_transform)\n",
    "\n",
    "    class_weights = None\n",
    "    train_sampler = None\n",
    "\n",
    "    if use_weight:\n",
    "        # 📊 클래스 불균형 처리를 위한 샘플 가중치 계산\n",
    "        targets = train_dataset.targets\n",
    "        class_counts = Counter(targets)\n",
    "        total_samples = len(train_dataset)\n",
    "\n",
    "        # 클래스별 weight: 클래스 수 / 샘플 수 비율\n",
    "        weights = [total_samples / (len(class_counts) * class_counts[i]) for i in range(len(class_counts))]\n",
    "        sample_weights = [weights[label] for label in targets]\n",
    "\n",
    "        # WeightedRandomSampler 생성\n",
    "        train_sampler = WeightedRandomSampler(sample_weights, num_samples=len(sample_weights), replacement=True)\n",
    "        class_weights = torch.FloatTensor(weights).to(DEVICE)\n",
    "\n",
    "        print(f\"📊 클래스 분포: {dict(class_counts)}\")\n",
    "        print(f\"⚖️ 클래스 가중치: {weights}\")\n",
    "\n",
    "    train_loader = torch.utils.data.DataLoader(\n",
    "        train_dataset,\n",
    "        batch_size=batch_size,\n",
    "        shuffle=(train_sampler is None),\n",
    "        sampler=train_sampler,\n",
    "        num_workers=8,  # ✅ 병렬 로딩\n",
    "        pin_memory=True\n",
    "    )\n",
    "    val_loader = torch.utils.data.DataLoader(\n",
    "        val_dataset,\n",
    "        batch_size=batch_size,\n",
    "        shuffle=False,\n",
    "        num_workers=8,  # ✅ 병렬 로딩\n",
    "        pin_memory=True\n",
    "    )\n",
    "\n",
    "    class_names = train_dataset.classes\n",
    "    return train_loader, val_loader, class_names, class_weights\n",
    "\n",
    "# === 수정된 Inception v3 학습 함수 ===\n",
    "def train_model(model, train_loader, val_loader, save_path, epochs, lr, class_weights=None):\n",
    "    criterion = nn.CrossEntropyLoss(weight=class_weights)\n",
    "    optimizer = optim.Adam(model.parameters(), lr=lr, weight_decay=0.01)\n",
    "    scheduler = torch.optim.lr_scheduler.CosineAnnealingLR(optimizer, T_max=epochs)\n",
    "\n",
    "    best_val_acc = 0\n",
    "    patience_counter = 0\n",
    "\n",
    "    for epoch in range(epochs):\n",
    "        model.train()\n",
    "        train_loss, train_correct = 0, 0\n",
    "        print(f\"\\n📘 Epoch {epoch+1}/{epochs}\")\n",
    "\n",
    "        for imgs, labels in tqdm(train_loader, desc=\"🟦 Training\", leave=False):\n",
    "            imgs, labels = imgs.to(DEVICE), labels.to(DEVICE)\n",
    "            \n",
    "            # Inception v3의 경우 training 모드에서 aux_logits 반환\n",
    "            if model.training and hasattr(model, 'aux_logits') and model.aux_logits:\n",
    "                outputs, aux_outputs = model(imgs)\n",
    "                loss1 = criterion(outputs, labels)\n",
    "                loss2 = criterion(aux_outputs, labels)\n",
    "                loss = loss1 + 0.4 * loss2\n",
    "            else:\n",
    "                outputs = model(imgs)\n",
    "                loss = criterion(outputs, labels)\n",
    "\n",
    "            optimizer.zero_grad()\n",
    "            loss.backward()\n",
    "            optimizer.step()\n",
    "\n",
    "            train_loss += loss.item()\n",
    "            train_correct += (outputs.argmax(1) == labels).sum().item()\n",
    "\n",
    "        train_acc = train_correct / len(train_loader.dataset)\n",
    "\n",
    "        # 검증\n",
    "        model.eval()\n",
    "        val_loss, val_correct = 0, 0\n",
    "        all_preds, all_labels = [], []\n",
    "\n",
    "        with torch.no_grad():\n",
    "            for imgs, labels in tqdm(val_loader, desc=\"🟨 Validating\", leave=False):\n",
    "                imgs, labels = imgs.to(DEVICE), labels.to(DEVICE)\n",
    "                outputs = model(imgs)\n",
    "                \n",
    "                # 검증 시에는 main output만 사용\n",
    "                if isinstance(outputs, tuple):\n",
    "                    outputs = outputs[0]\n",
    "                \n",
    "                loss = criterion(outputs, labels)\n",
    "                val_loss += loss.item()\n",
    "                val_correct += (outputs.argmax(1) == labels).sum().item()\n",
    "                all_preds.extend(outputs.argmax(1).cpu().numpy())\n",
    "                all_labels.extend(labels.cpu().numpy())\n",
    "\n",
    "        val_acc = val_correct / len(val_loader.dataset)\n",
    "        scheduler.step()\n",
    "\n",
    "        print(f\"📊 Epoch {epoch+1}: \"\n",
    "              f\"Train Loss = {train_loss/len(train_loader):.4f}, \"\n",
    "              f\"Train Acc = {train_acc:.4f} | \"\n",
    "              f\"Val Loss = {val_loss/len(val_loader):.4f}, \"\n",
    "              f\"Val Acc = {val_acc:.4f}\")\n",
    "\n",
    "        # 최고 성능 모델 저장\n",
    "        if val_acc > best_val_acc:\n",
    "            best_val_acc = val_acc\n",
    "            torch.save(model.state_dict(), save_path)\n",
    "            patience_counter = 0\n",
    "            print(f\"✅ 새로운 최고 성능! 모델 저장됨 (Val Acc: {val_acc:.4f})\")\n",
    "        else:\n",
    "            patience_counter += 1\n",
    "            if patience_counter >= PATIENCE:\n",
    "                print(f\"🛑 Early stopping! (Patience: {PATIENCE})\")\n",
    "                break\n",
    "\n",
    "    return all_preds, all_labels"
   ]
  },
  {
   "cell_type": "code",
   "execution_count": 8,
   "metadata": {},
   "outputs": [
    {
     "name": "stdout",
     "output_type": "stream",
     "text": [
      "📸 사진 데이터 로딩 중...\n",
      "📊 클래스: ['angry', 'fear', 'happy', 'sad']\n",
      "📊 훈련 데이터: 5756개\n",
      "📊 검증 데이터: 1440개\n",
      "🤖 Inception v3 모델 생성 중...\n"
     ]
    },
    {
     "name": "stdout",
     "output_type": "stream",
     "text": [
      "🎯 모델 파라미터 수: 24,354,536\n",
      "🚀 사전학습 시작!\n",
      "\n",
      "📘 Epoch 1/30\n"
     ]
    },
    {
     "name": "stderr",
     "output_type": "stream",
     "text": [
      "                                                              \r"
     ]
    },
    {
     "name": "stdout",
     "output_type": "stream",
     "text": [
      "📊 Epoch 1: Train Loss = 1.7300, Train Acc = 0.4114 | Val Loss = 0.8266, Val Acc = 0.6722\n",
      "✅ 새로운 최고 성능! 모델 저장됨 (Val Acc: 0.6722)\n",
      "\n",
      "📘 Epoch 2/30\n"
     ]
    },
    {
     "name": "stderr",
     "output_type": "stream",
     "text": [
      "                                                              \r"
     ]
    },
    {
     "name": "stdout",
     "output_type": "stream",
     "text": [
      "📊 Epoch 2: Train Loss = 1.3026, Train Acc = 0.5992 | Val Loss = 0.6669, Val Acc = 0.7535\n",
      "✅ 새로운 최고 성능! 모델 저장됨 (Val Acc: 0.7535)\n",
      "\n",
      "📘 Epoch 3/30\n"
     ]
    },
    {
     "name": "stderr",
     "output_type": "stream",
     "text": [
      "                                                              \r"
     ]
    },
    {
     "name": "stdout",
     "output_type": "stream",
     "text": [
      "📊 Epoch 3: Train Loss = 1.1235, Train Acc = 0.6579 | Val Loss = 0.5438, Val Acc = 0.7896\n",
      "✅ 새로운 최고 성능! 모델 저장됨 (Val Acc: 0.7896)\n",
      "\n",
      "📘 Epoch 4/30\n"
     ]
    },
    {
     "name": "stderr",
     "output_type": "stream",
     "text": [
      "                                                              \r"
     ]
    },
    {
     "name": "stdout",
     "output_type": "stream",
     "text": [
      "📊 Epoch 4: Train Loss = 1.0477, Train Acc = 0.6807 | Val Loss = 0.5626, Val Acc = 0.7847\n",
      "\n",
      "📘 Epoch 5/30\n"
     ]
    },
    {
     "name": "stderr",
     "output_type": "stream",
     "text": [
      "                                                              \r"
     ]
    },
    {
     "name": "stdout",
     "output_type": "stream",
     "text": [
      "📊 Epoch 5: Train Loss = 0.9573, Train Acc = 0.7226 | Val Loss = 0.4975, Val Acc = 0.8160\n",
      "✅ 새로운 최고 성능! 모델 저장됨 (Val Acc: 0.8160)\n",
      "\n",
      "📘 Epoch 6/30\n"
     ]
    },
    {
     "name": "stderr",
     "output_type": "stream",
     "text": [
      "                                                              \r"
     ]
    },
    {
     "name": "stdout",
     "output_type": "stream",
     "text": [
      "📊 Epoch 6: Train Loss = 0.9399, Train Acc = 0.7189 | Val Loss = 0.4814, Val Acc = 0.8222\n",
      "✅ 새로운 최고 성능! 모델 저장됨 (Val Acc: 0.8222)\n",
      "\n",
      "📘 Epoch 7/30\n"
     ]
    },
    {
     "name": "stderr",
     "output_type": "stream",
     "text": [
      "                                                              \r"
     ]
    },
    {
     "name": "stdout",
     "output_type": "stream",
     "text": [
      "📊 Epoch 7: Train Loss = 0.8978, Train Acc = 0.7403 | Val Loss = 0.4799, Val Acc = 0.8236\n",
      "✅ 새로운 최고 성능! 모델 저장됨 (Val Acc: 0.8236)\n",
      "\n",
      "📘 Epoch 8/30\n"
     ]
    },
    {
     "name": "stderr",
     "output_type": "stream",
     "text": [
      "                                                              \r"
     ]
    },
    {
     "name": "stdout",
     "output_type": "stream",
     "text": [
      "📊 Epoch 8: Train Loss = 0.8853, Train Acc = 0.7404 | Val Loss = 0.4517, Val Acc = 0.8375\n",
      "✅ 새로운 최고 성능! 모델 저장됨 (Val Acc: 0.8375)\n",
      "\n",
      "📘 Epoch 9/30\n"
     ]
    },
    {
     "name": "stderr",
     "output_type": "stream",
     "text": [
      "                                                              \r"
     ]
    },
    {
     "name": "stdout",
     "output_type": "stream",
     "text": [
      "📊 Epoch 9: Train Loss = 0.8551, Train Acc = 0.7526 | Val Loss = 0.5102, Val Acc = 0.8181\n",
      "\n",
      "📘 Epoch 10/30\n"
     ]
    },
    {
     "name": "stderr",
     "output_type": "stream",
     "text": [
      "                                                              \r"
     ]
    },
    {
     "name": "stdout",
     "output_type": "stream",
     "text": [
      "📊 Epoch 10: Train Loss = 0.8384, Train Acc = 0.7446 | Val Loss = 0.5718, Val Acc = 0.8021\n",
      "\n",
      "📘 Epoch 11/30\n"
     ]
    },
    {
     "name": "stderr",
     "output_type": "stream",
     "text": [
      "                                                              \r"
     ]
    },
    {
     "name": "stdout",
     "output_type": "stream",
     "text": [
      "📊 Epoch 11: Train Loss = 0.7709, Train Acc = 0.7757 | Val Loss = 0.5568, Val Acc = 0.8007\n",
      "\n",
      "📘 Epoch 12/30\n"
     ]
    },
    {
     "name": "stderr",
     "output_type": "stream",
     "text": [
      "                                                              \r"
     ]
    },
    {
     "name": "stdout",
     "output_type": "stream",
     "text": [
      "📊 Epoch 12: Train Loss = 0.7605, Train Acc = 0.7794 | Val Loss = 0.4723, Val Acc = 0.8465\n",
      "✅ 새로운 최고 성능! 모델 저장됨 (Val Acc: 0.8465)\n",
      "\n",
      "📘 Epoch 13/30\n"
     ]
    },
    {
     "name": "stderr",
     "output_type": "stream",
     "text": [
      "                                                              \r"
     ]
    },
    {
     "name": "stdout",
     "output_type": "stream",
     "text": [
      "📊 Epoch 13: Train Loss = 0.7475, Train Acc = 0.7733 | Val Loss = 0.4214, Val Acc = 0.8535\n",
      "✅ 새로운 최고 성능! 모델 저장됨 (Val Acc: 0.8535)\n",
      "\n",
      "📘 Epoch 14/30\n"
     ]
    },
    {
     "name": "stderr",
     "output_type": "stream",
     "text": [
      "                                                              \r"
     ]
    },
    {
     "name": "stdout",
     "output_type": "stream",
     "text": [
      "📊 Epoch 14: Train Loss = 0.7100, Train Acc = 0.7867 | Val Loss = 0.4119, Val Acc = 0.8542\n",
      "✅ 새로운 최고 성능! 모델 저장됨 (Val Acc: 0.8542)\n",
      "\n",
      "📘 Epoch 15/30\n"
     ]
    },
    {
     "name": "stderr",
     "output_type": "stream",
     "text": [
      "                                                              \r"
     ]
    },
    {
     "name": "stdout",
     "output_type": "stream",
     "text": [
      "📊 Epoch 15: Train Loss = 0.6948, Train Acc = 0.7934 | Val Loss = 0.3987, Val Acc = 0.8597\n",
      "✅ 새로운 최고 성능! 모델 저장됨 (Val Acc: 0.8597)\n",
      "\n",
      "📘 Epoch 16/30\n"
     ]
    },
    {
     "name": "stderr",
     "output_type": "stream",
     "text": [
      "                                                              \r"
     ]
    },
    {
     "name": "stdout",
     "output_type": "stream",
     "text": [
      "📊 Epoch 16: Train Loss = 0.6740, Train Acc = 0.8039 | Val Loss = 0.4447, Val Acc = 0.8507\n",
      "\n",
      "📘 Epoch 17/30\n"
     ]
    },
    {
     "name": "stderr",
     "output_type": "stream",
     "text": [
      "                                                              \r"
     ]
    },
    {
     "name": "stdout",
     "output_type": "stream",
     "text": [
      "📊 Epoch 17: Train Loss = 0.6696, Train Acc = 0.8039 | Val Loss = 0.4399, Val Acc = 0.8438\n",
      "\n",
      "📘 Epoch 18/30\n"
     ]
    },
    {
     "name": "stderr",
     "output_type": "stream",
     "text": [
      "                                                              \r"
     ]
    },
    {
     "name": "stdout",
     "output_type": "stream",
     "text": [
      "📊 Epoch 18: Train Loss = 0.6317, Train Acc = 0.8153 | Val Loss = 0.4570, Val Acc = 0.8458\n",
      "\n",
      "📘 Epoch 19/30\n"
     ]
    },
    {
     "name": "stderr",
     "output_type": "stream",
     "text": [
      "                                                              \r"
     ]
    },
    {
     "name": "stdout",
     "output_type": "stream",
     "text": [
      "📊 Epoch 19: Train Loss = 0.6025, Train Acc = 0.8176 | Val Loss = 0.4440, Val Acc = 0.8507\n",
      "\n",
      "📘 Epoch 20/30\n"
     ]
    },
    {
     "name": "stderr",
     "output_type": "stream",
     "text": [
      "                                                              "
     ]
    },
    {
     "name": "stdout",
     "output_type": "stream",
     "text": [
      "📊 Epoch 20: Train Loss = 0.6144, Train Acc = 0.8181 | Val Loss = 0.4357, Val Acc = 0.8521\n",
      "🛑 Early stopping! (Patience: 5)\n",
      "✅ 사전학습 완료! 모델이 저장됨: /workspace/models/Inception/inception_pretrained_photo.pth\n"
     ]
    },
    {
     "name": "stderr",
     "output_type": "stream",
     "text": [
      "\r"
     ]
    }
   ],
   "source": [
    "# === Step 1: 사진 데이터 학습 (사전학습) ===\n",
    "print(\"📸 사진 데이터 로딩 중...\")\n",
    "photo_train_loader, photo_val_loader, class_names, _ = get_dataloaders(photo_train, photo_val)\n",
    "\n",
    "print(f\"📊 클래스: {class_names}\")\n",
    "print(f\"📊 훈련 데이터: {len(photo_train_loader.dataset)}개\")\n",
    "print(f\"📊 검증 데이터: {len(photo_val_loader.dataset)}개\")\n",
    "\n",
    "# Inception v3 모델 생성\n",
    "print(\"🤖 Inception v3 모델 생성 중...\")\n",
    "model = models.inception_v3(pretrained=True, aux_logits=True)\n",
    "model.fc = nn.Sequential(\n",
    "    nn.Dropout(DROPOUT),\n",
    "    nn.Linear(model.fc.in_features, NUM_CLASSES)\n",
    ")\n",
    "model.AuxLogits.fc = nn.Linear(model.AuxLogits.fc.in_features, NUM_CLASSES)\n",
    "model.to(DEVICE)\n",
    "\n",
    "print(f\"🎯 모델 파라미터 수: {sum(p.numel() for p in model.parameters()):,}\")\n",
    "\n",
    "# 학습 수행\n",
    "print(\"🚀 사전학습 시작!\")\n",
    "train_model(\n",
    "    model,\n",
    "    photo_train_loader,\n",
    "    photo_val_loader,\n",
    "    save_path=photo_model_path,\n",
    "    epochs=EPOCHS_PRETRAIN,\n",
    "    lr=LR_PRETRAIN,\n",
    "    class_weights=None\n",
    ")\n",
    "\n",
    "print(f\"✅ 사전학습 완료! 모델이 저장됨: {photo_model_path}\")"
   ]
  },
  {
   "cell_type": "code",
   "execution_count": 9,
   "metadata": {
    "id": "0Tyyz5EK_VY-"
   },
   "outputs": [
    {
     "name": "stderr",
     "output_type": "stream",
     "text": [
      "/workspace/.conda/lib/python3.11/site-packages/torchvision/models/_utils.py:223: UserWarning: Arguments other than a weight enum or `None` for 'weights' are deprecated since 0.13 and may be removed in the future. The current behavior is equivalent to passing `weights=None`.\n",
      "  warnings.warn(msg)\n",
      "/workspace/.conda/lib/python3.11/site-packages/torchvision/models/inception.py:43: FutureWarning: The default weight initialization of inception_v3 will be changed in future releases of torchvision. If you wish to keep the old behavior (which leads to long initialization times due to scipy/scipy#11299), please set init_weights=True.\n",
      "  warnings.warn(\n"
     ]
    },
    {
     "name": "stdout",
     "output_type": "stream",
     "text": [
      "\n",
      "============================================================\n",
      "🎨 Step 2: 그림 데이터 파인튜닝 시작!\n",
      "============================================================\n",
      "🎨 그림 데이터 로딩 중...\n",
      "📊 클래스 분포: {0: 318, 1: 294, 2: 567, 3: 360}\n",
      "⚖️ 클래스 가중치: [1.2099056603773586, 1.308673469387755, 0.6785714285714286, 1.06875]\n",
      "📊 그림 데이터 클래스: ['angry', 'fear', 'happy', 'sad']\n",
      "📊 그림 훈련 데이터: 1539개\n",
      "📊 그림 검증 데이터: 472개\n",
      "📥 사전학습된 모델 불러오는 중...\n"
     ]
    },
    {
     "name": "stdout",
     "output_type": "stream",
     "text": [
      "✅ 사전학습된 모델 가중치 로드 완료!\n",
      "🎯 파인튜닝 학습률: 1e-05\n",
      "⚖️ 클래스 가중치 사용: Yes\n",
      "🚀 파인튜닝 시작!\n",
      "\n",
      "📘 Epoch 1/30\n"
     ]
    },
    {
     "name": "stderr",
     "output_type": "stream",
     "text": [
      "                                                              \r"
     ]
    },
    {
     "name": "stdout",
     "output_type": "stream",
     "text": [
      "📊 Epoch 1: Train Loss = 2.4811, Train Acc = 0.3184 | Val Loss = 1.4948, Val Acc = 0.4004\n",
      "✅ 새로운 최고 성능! 모델 저장됨 (Val Acc: 0.4004)\n",
      "\n",
      "📘 Epoch 2/30\n"
     ]
    },
    {
     "name": "stderr",
     "output_type": "stream",
     "text": [
      "                                                              \r"
     ]
    },
    {
     "name": "stdout",
     "output_type": "stream",
     "text": [
      "📊 Epoch 2: Train Loss = 1.8180, Train Acc = 0.4204 | Val Loss = 1.2680, Val Acc = 0.4428\n",
      "✅ 새로운 최고 성능! 모델 저장됨 (Val Acc: 0.4428)\n",
      "\n",
      "📘 Epoch 3/30\n"
     ]
    },
    {
     "name": "stderr",
     "output_type": "stream",
     "text": [
      "                                                              \r"
     ]
    },
    {
     "name": "stdout",
     "output_type": "stream",
     "text": [
      "📊 Epoch 3: Train Loss = 1.7205, Train Acc = 0.4288 | Val Loss = 1.0749, Val Acc = 0.5508\n",
      "✅ 새로운 최고 성능! 모델 저장됨 (Val Acc: 0.5508)\n",
      "\n",
      "📘 Epoch 4/30\n"
     ]
    },
    {
     "name": "stderr",
     "output_type": "stream",
     "text": [
      "                                                              \r"
     ]
    },
    {
     "name": "stdout",
     "output_type": "stream",
     "text": [
      "📊 Epoch 4: Train Loss = 1.5852, Train Acc = 0.5250 | Val Loss = 0.9621, Val Acc = 0.6017\n",
      "✅ 새로운 최고 성능! 모델 저장됨 (Val Acc: 0.6017)\n",
      "\n",
      "📘 Epoch 5/30\n"
     ]
    },
    {
     "name": "stderr",
     "output_type": "stream",
     "text": [
      "                                                              \r"
     ]
    },
    {
     "name": "stdout",
     "output_type": "stream",
     "text": [
      "📊 Epoch 5: Train Loss = 1.4745, Train Acc = 0.5634 | Val Loss = 0.9006, Val Acc = 0.6271\n",
      "✅ 새로운 최고 성능! 모델 저장됨 (Val Acc: 0.6271)\n",
      "\n",
      "📘 Epoch 6/30\n"
     ]
    },
    {
     "name": "stderr",
     "output_type": "stream",
     "text": [
      "                                                              \r"
     ]
    },
    {
     "name": "stdout",
     "output_type": "stream",
     "text": [
      "📊 Epoch 6: Train Loss = 1.4256, Train Acc = 0.5932 | Val Loss = 0.8171, Val Acc = 0.6949\n",
      "✅ 새로운 최고 성능! 모델 저장됨 (Val Acc: 0.6949)\n",
      "\n",
      "📘 Epoch 7/30\n"
     ]
    },
    {
     "name": "stderr",
     "output_type": "stream",
     "text": [
      "                                                              \r"
     ]
    },
    {
     "name": "stdout",
     "output_type": "stream",
     "text": [
      "📊 Epoch 7: Train Loss = 1.3773, Train Acc = 0.6062 | Val Loss = 0.7883, Val Acc = 0.6970\n",
      "✅ 새로운 최고 성능! 모델 저장됨 (Val Acc: 0.6970)\n",
      "\n",
      "📘 Epoch 8/30\n"
     ]
    },
    {
     "name": "stderr",
     "output_type": "stream",
     "text": [
      "                                                              \r"
     ]
    },
    {
     "name": "stdout",
     "output_type": "stream",
     "text": [
      "📊 Epoch 8: Train Loss = 1.2835, Train Acc = 0.6283 | Val Loss = 0.7569, Val Acc = 0.6970\n",
      "\n",
      "📘 Epoch 9/30\n"
     ]
    },
    {
     "name": "stderr",
     "output_type": "stream",
     "text": [
      "                                                              \r"
     ]
    },
    {
     "name": "stdout",
     "output_type": "stream",
     "text": [
      "📊 Epoch 9: Train Loss = 1.2673, Train Acc = 0.6485 | Val Loss = 0.7247, Val Acc = 0.7076\n",
      "✅ 새로운 최고 성능! 모델 저장됨 (Val Acc: 0.7076)\n",
      "\n",
      "📘 Epoch 10/30\n"
     ]
    },
    {
     "name": "stderr",
     "output_type": "stream",
     "text": [
      "                                                              \r"
     ]
    },
    {
     "name": "stdout",
     "output_type": "stream",
     "text": [
      "📊 Epoch 10: Train Loss = 1.2076, Train Acc = 0.6452 | Val Loss = 0.6662, Val Acc = 0.7500\n",
      "✅ 새로운 최고 성능! 모델 저장됨 (Val Acc: 0.7500)\n",
      "\n",
      "📘 Epoch 11/30\n"
     ]
    },
    {
     "name": "stderr",
     "output_type": "stream",
     "text": [
      "                                                              \r"
     ]
    },
    {
     "name": "stdout",
     "output_type": "stream",
     "text": [
      "📊 Epoch 11: Train Loss = 1.1773, Train Acc = 0.6732 | Val Loss = 0.6743, Val Acc = 0.7309\n",
      "\n",
      "📘 Epoch 12/30\n"
     ]
    },
    {
     "name": "stderr",
     "output_type": "stream",
     "text": [
      "                                                              \r"
     ]
    },
    {
     "name": "stdout",
     "output_type": "stream",
     "text": [
      "📊 Epoch 12: Train Loss = 1.1539, Train Acc = 0.6797 | Val Loss = 0.6496, Val Acc = 0.7648\n",
      "✅ 새로운 최고 성능! 모델 저장됨 (Val Acc: 0.7648)\n",
      "\n",
      "📘 Epoch 13/30\n"
     ]
    },
    {
     "name": "stderr",
     "output_type": "stream",
     "text": [
      "                                                              \r"
     ]
    },
    {
     "name": "stdout",
     "output_type": "stream",
     "text": [
      "📊 Epoch 13: Train Loss = 1.1143, Train Acc = 0.6946 | Val Loss = 0.6002, Val Acc = 0.7712\n",
      "✅ 새로운 최고 성능! 모델 저장됨 (Val Acc: 0.7712)\n",
      "\n",
      "📘 Epoch 14/30\n"
     ]
    },
    {
     "name": "stderr",
     "output_type": "stream",
     "text": [
      "                                                              \r"
     ]
    },
    {
     "name": "stdout",
     "output_type": "stream",
     "text": [
      "📊 Epoch 14: Train Loss = 1.1091, Train Acc = 0.6920 | Val Loss = 0.5909, Val Acc = 0.7903\n",
      "✅ 새로운 최고 성능! 모델 저장됨 (Val Acc: 0.7903)\n",
      "\n",
      "📘 Epoch 15/30\n"
     ]
    },
    {
     "name": "stderr",
     "output_type": "stream",
     "text": [
      "                                                              \r"
     ]
    },
    {
     "name": "stdout",
     "output_type": "stream",
     "text": [
      "📊 Epoch 15: Train Loss = 1.0284, Train Acc = 0.7297 | Val Loss = 0.5685, Val Acc = 0.8051\n",
      "✅ 새로운 최고 성능! 모델 저장됨 (Val Acc: 0.8051)\n",
      "\n",
      "📘 Epoch 16/30\n"
     ]
    },
    {
     "name": "stderr",
     "output_type": "stream",
     "text": [
      "                                                              \r"
     ]
    },
    {
     "name": "stdout",
     "output_type": "stream",
     "text": [
      "📊 Epoch 16: Train Loss = 1.0474, Train Acc = 0.7128 | Val Loss = 0.5811, Val Acc = 0.7945\n",
      "\n",
      "📘 Epoch 17/30\n"
     ]
    },
    {
     "name": "stderr",
     "output_type": "stream",
     "text": [
      "                                                              \r"
     ]
    },
    {
     "name": "stdout",
     "output_type": "stream",
     "text": [
      "📊 Epoch 17: Train Loss = 1.0018, Train Acc = 0.7310 | Val Loss = 0.5536, Val Acc = 0.8093\n",
      "✅ 새로운 최고 성능! 모델 저장됨 (Val Acc: 0.8093)\n",
      "\n",
      "📘 Epoch 18/30\n"
     ]
    },
    {
     "name": "stderr",
     "output_type": "stream",
     "text": [
      "                                                              \r"
     ]
    },
    {
     "name": "stdout",
     "output_type": "stream",
     "text": [
      "📊 Epoch 18: Train Loss = 0.9989, Train Acc = 0.7420 | Val Loss = 0.5569, Val Acc = 0.8157\n",
      "✅ 새로운 최고 성능! 모델 저장됨 (Val Acc: 0.8157)\n",
      "\n",
      "📘 Epoch 19/30\n"
     ]
    },
    {
     "name": "stderr",
     "output_type": "stream",
     "text": [
      "                                                              \r"
     ]
    },
    {
     "name": "stdout",
     "output_type": "stream",
     "text": [
      "📊 Epoch 19: Train Loss = 0.9596, Train Acc = 0.7414 | Val Loss = 0.5283, Val Acc = 0.8178\n",
      "✅ 새로운 최고 성능! 모델 저장됨 (Val Acc: 0.8178)\n",
      "\n",
      "📘 Epoch 20/30\n"
     ]
    },
    {
     "name": "stderr",
     "output_type": "stream",
     "text": [
      "                                                              \r"
     ]
    },
    {
     "name": "stdout",
     "output_type": "stream",
     "text": [
      "📊 Epoch 20: Train Loss = 1.0067, Train Acc = 0.7368 | Val Loss = 0.5546, Val Acc = 0.8051\n",
      "\n",
      "📘 Epoch 21/30\n"
     ]
    },
    {
     "name": "stderr",
     "output_type": "stream",
     "text": [
      "                                                              \r"
     ]
    },
    {
     "name": "stdout",
     "output_type": "stream",
     "text": [
      "📊 Epoch 21: Train Loss = 0.9435, Train Acc = 0.7557 | Val Loss = 0.5511, Val Acc = 0.8136\n",
      "\n",
      "📘 Epoch 22/30\n"
     ]
    },
    {
     "name": "stderr",
     "output_type": "stream",
     "text": [
      "                                                              \r"
     ]
    },
    {
     "name": "stdout",
     "output_type": "stream",
     "text": [
      "📊 Epoch 22: Train Loss = 0.9398, Train Acc = 0.7524 | Val Loss = 0.5314, Val Acc = 0.8199\n",
      "✅ 새로운 최고 성능! 모델 저장됨 (Val Acc: 0.8199)\n",
      "\n",
      "📘 Epoch 23/30\n"
     ]
    },
    {
     "name": "stderr",
     "output_type": "stream",
     "text": [
      "                                                              \r"
     ]
    },
    {
     "name": "stdout",
     "output_type": "stream",
     "text": [
      "📊 Epoch 23: Train Loss = 0.9667, Train Acc = 0.7492 | Val Loss = 0.5853, Val Acc = 0.7987\n",
      "\n",
      "📘 Epoch 24/30\n"
     ]
    },
    {
     "name": "stderr",
     "output_type": "stream",
     "text": [
      "                                                              \r"
     ]
    },
    {
     "name": "stdout",
     "output_type": "stream",
     "text": [
      "📊 Epoch 24: Train Loss = 0.9297, Train Acc = 0.7713 | Val Loss = 0.5385, Val Acc = 0.8220\n",
      "✅ 새로운 최고 성능! 모델 저장됨 (Val Acc: 0.8220)\n",
      "\n",
      "📘 Epoch 25/30\n"
     ]
    },
    {
     "name": "stderr",
     "output_type": "stream",
     "text": [
      "                                                              \r"
     ]
    },
    {
     "name": "stdout",
     "output_type": "stream",
     "text": [
      "📊 Epoch 25: Train Loss = 0.9682, Train Acc = 0.7323 | Val Loss = 0.5357, Val Acc = 0.8093\n",
      "\n",
      "📘 Epoch 26/30\n"
     ]
    },
    {
     "name": "stderr",
     "output_type": "stream",
     "text": [
      "                                                              \r"
     ]
    },
    {
     "name": "stdout",
     "output_type": "stream",
     "text": [
      "📊 Epoch 26: Train Loss = 0.9220, Train Acc = 0.7667 | Val Loss = 0.5330, Val Acc = 0.8114\n",
      "\n",
      "📘 Epoch 27/30\n"
     ]
    },
    {
     "name": "stderr",
     "output_type": "stream",
     "text": [
      "                                                              \r"
     ]
    },
    {
     "name": "stdout",
     "output_type": "stream",
     "text": [
      "📊 Epoch 27: Train Loss = 0.9349, Train Acc = 0.7648 | Val Loss = 0.5346, Val Acc = 0.8051\n",
      "\n",
      "📘 Epoch 28/30\n"
     ]
    },
    {
     "name": "stderr",
     "output_type": "stream",
     "text": [
      "                                                              \r"
     ]
    },
    {
     "name": "stdout",
     "output_type": "stream",
     "text": [
      "📊 Epoch 28: Train Loss = 0.9011, Train Acc = 0.7674 | Val Loss = 0.5283, Val Acc = 0.8263\n",
      "✅ 새로운 최고 성능! 모델 저장됨 (Val Acc: 0.8263)\n",
      "\n",
      "📘 Epoch 29/30\n"
     ]
    },
    {
     "name": "stderr",
     "output_type": "stream",
     "text": [
      "                                                              \r"
     ]
    },
    {
     "name": "stdout",
     "output_type": "stream",
     "text": [
      "📊 Epoch 29: Train Loss = 0.9563, Train Acc = 0.7667 | Val Loss = 0.5315, Val Acc = 0.8199\n",
      "\n",
      "📘 Epoch 30/30\n"
     ]
    },
    {
     "name": "stderr",
     "output_type": "stream",
     "text": [
      "                                                              "
     ]
    },
    {
     "name": "stdout",
     "output_type": "stream",
     "text": [
      "📊 Epoch 30: Train Loss = 0.9084, Train Acc = 0.7732 | Val Loss = 0.5308, Val Acc = 0.8157\n",
      "✅ 파인튜닝 완료! 모델이 저장됨: /workspace/models/Inception/inception_finetuned_drawing.pth\n"
     ]
    },
    {
     "name": "stderr",
     "output_type": "stream",
     "text": [
      "\r"
     ]
    }
   ],
   "source": [
    "# === Step 2: 그림 데이터 파인튜닝 ===\n",
    "print(\"\\n\" + \"=\"*60)\n",
    "print(\"🎨 Step 2: 그림 데이터 파인튜닝 시작!\")\n",
    "print(\"=\"*60)\n",
    "\n",
    "print(\"🎨 그림 데이터 로딩 중...\")\n",
    "drawing_train_loader, drawing_val_loader, drawing_class_names, drawing_weights = get_dataloaders(\n",
    "    drawing_train, drawing_val, use_weight=True)\n",
    "\n",
    "print(f\"📊 그림 데이터 클래스: {drawing_class_names}\")\n",
    "print(f\"📊 그림 훈련 데이터: {len(drawing_train_loader.dataset)}개\")\n",
    "print(f\"📊 그림 검증 데이터: {len(drawing_val_loader.dataset)}개\")\n",
    "\n",
    "# 학습한 사전학습 모델 불러오기\n",
    "print(\"📥 사전학습된 모델 불러오는 중...\")\n",
    "model = models.inception_v3(pretrained=False, aux_logits=True)\n",
    "model.fc = nn.Sequential(\n",
    "    nn.Dropout(DROPOUT),\n",
    "    nn.Linear(model.fc.in_features, NUM_CLASSES)\n",
    ")\n",
    "model.AuxLogits.fc = nn.Linear(model.AuxLogits.fc.in_features, NUM_CLASSES)\n",
    "\n",
    "# 사전학습된 가중치 로드\n",
    "try:\n",
    "    model.load_state_dict(torch.load(photo_model_path, map_location=DEVICE))\n",
    "    print(\"✅ 사전학습된 모델 가중치 로드 완료!\")\n",
    "except FileNotFoundError:\n",
    "    print(\"❌ 사전학습된 모델 파일을 찾을 수 없습니다!\")\n",
    "    print(\"Step 1을 먼저 실행해주세요.\")\n",
    "    raise\n",
    "\n",
    "model.to(DEVICE)\n",
    "\n",
    "# 파인튜닝을 위한 학습률 조정 (더 낮은 학습률 사용)\n",
    "print(f\"🎯 파인튜닝 학습률: {LR_FINETUNE}\")\n",
    "print(f\"⚖️ 클래스 가중치 사용: {'Yes' if drawing_weights is not None else 'No'}\")\n",
    "\n",
    "# 파인튜닝 수행\n",
    "print(\"🚀 파인튜닝 시작!\")\n",
    "preds, labels = train_model(\n",
    "    model,\n",
    "    train_loader=drawing_train_loader,\n",
    "    val_loader=drawing_val_loader,\n",
    "    save_path=drawing_model_path,\n",
    "    epochs=EPOCHS_FINETUNE,\n",
    "    lr=LR_FINETUNE,\n",
    "    class_weights=drawing_weights\n",
    ")\n",
    "\n",
    "print(f\"✅ 파인튜닝 완료! 모델이 저장됨: {drawing_model_path}\")"
   ]
  },
  {
   "cell_type": "code",
   "execution_count": 10,
   "metadata": {
    "id": "wodv2BSN_aOe"
   },
   "outputs": [
    {
     "name": "stdout",
     "output_type": "stream",
     "text": [
      "\n",
      "============================================================\n",
      "📊 Step 3: 최종 평가 및 결과 분석\n",
      "============================================================\n",
      "🎯 최종 검증 정확도: 0.8157 (81.57%)\n",
      "\n",
      "📋 상세 분류 리포트:\n",
      "              precision    recall  f1-score   support\n",
      "\n",
      "       angry       0.79      0.75      0.77       100\n",
      "        fear       0.70      0.80      0.74        93\n",
      "       happy       0.92      0.90      0.91       182\n",
      "         sad       0.78      0.74      0.76        97\n",
      "\n",
      "    accuracy                           0.82       472\n",
      "   macro avg       0.80      0.80      0.80       472\n",
      "weighted avg       0.82      0.82      0.82       472\n",
      "\n",
      "📈 혼동 행렬 생성 중...\n"
     ]
    },
    {
     "data": {
      "text/plain": [
       "<Figure size 1000x800 with 0 Axes>"
      ]
     },
     "metadata": {},
     "output_type": "display_data"
    },
    {
     "data": {
      "image/png": "[encoded data removed]",
      "text/plain": [
       "<Figure size 640x480 with 2 Axes>"
      ]
     },
     "metadata": {},
     "output_type": "display_data"
    },
    {
     "name": "stdout",
     "output_type": "stream",
     "text": [
      "\n",
      "📊 클래스별 정확도:\n",
      "  angry: 0.7500 (75.00%) - 100개 샘플\n",
      "  fear: 0.7957 (79.57%) - 93개 샘플\n",
      "  happy: 0.9011 (90.11%) - 182개 샘플\n",
      "  sad: 0.7423 (74.23%) - 97개 샘플\n",
      "\n",
      "🎉 모든 학습 과정이 완료되었습니다!\n",
      "📁 사전학습 모델: /workspace/models/Inception/inception_pretrained_photo.pth\n",
      "📁 파인튜닝 모델: /workspace/models/Inception/inception_finetuned_drawing.pth\n",
      "📁 혼동 행렬: /workspace/models/Inception/confusion_matrix.png\n"
     ]
    }
   ],
   "source": [
    "# === Step 3: 최종 평가 및 결과 분석 ===\n",
    "print(\"\\n\" + \"=\"*60)\n",
    "print(\"📊 Step 3: 최종 평가 및 결과 분석\")\n",
    "print(\"=\"*60)\n",
    "\n",
    "# 최종 정확도 계산\n",
    "final_accuracy = accuracy_score(labels, preds)\n",
    "print(f\"🎯 최종 검증 정확도: {final_accuracy:.4f} ({final_accuracy*100:.2f}%)\")\n",
    "\n",
    "# 분류 리포트 출력\n",
    "print(\"\\n📋 상세 분류 리포트:\")\n",
    "print(classification_report(labels, preds, target_names=drawing_class_names))\n",
    "\n",
    "# 혼동 행렬 시각화\n",
    "print(\"📈 혼동 행렬 생성 중...\")\n",
    "cm = confusion_matrix(labels, preds)\n",
    "\n",
    "# 💡 백분율로 변환\n",
    "cm_percent = cm.astype('float') / cm.sum(axis=1, keepdims=True) * 100\n",
    "\n",
    "plt.figure(figsize=(10, 8))\n",
    "disp = ConfusionMatrixDisplay(confusion_matrix=cm_percent, display_labels=drawing_class_names)\n",
    "disp.plot(cmap='Blues', values_format=\".1f\")  # 소수점 첫째 자리까지 표현\n",
    "plt.title('Confusion Matrix (%) - Fine-tuned Model on Drawing Data')\n",
    "plt.xticks(rotation=45)\n",
    "plt.tight_layout()\n",
    "plt.savefig('/workspace/models/Inception/confusion_matrix_percent.png', dpi=300, bbox_inches='tight')\n",
    "plt.show()\n",
    "\n",
    "\n",
    "# 클래스별 정확도 분석\n",
    "print(\"\\n📊 클래스별 정확도:\")\n",
    "for i, class_name in enumerate(drawing_class_names):\n",
    "    class_mask = [True if label == i else False for label in labels]\n",
    "    class_preds = [preds[j] for j, mask in enumerate(class_mask) if mask]\n",
    "    class_labels = [labels[j] for j, mask in enumerate(class_mask) if mask]\n",
    "    \n",
    "    if len(class_labels) > 0:\n",
    "        class_acc = accuracy_score(class_labels, class_preds)\n",
    "        print(f\"  {class_name}: {class_acc:.4f} ({class_acc*100:.2f}%) - {len(class_labels)}개 샘플\")\n",
    "\n",
    "print(\"\\n🎉 모든 학습 과정이 완료되었습니다!\")\n",
    "print(f\"📁 사전학습 모델: {photo_model_path}\")\n",
    "print(f\"📁 파인튜닝 모델: {drawing_model_path}\")\n",
    "print(f\"📁 혼동 행렬: /workspace/models/Inception/confusion_matrix.png\")"
   ]
  },
  {
   "cell_type": "code",
   "execution_count": null,
   "metadata": {
    "id": "JKTCH2-sAA7X"
   },
   "outputs": [],
   "source": []
  },
  {
   "cell_type": "code",
   "execution_count": null,
   "metadata": {
    "id": "4MsFuqq2AA5A"
   },
   "outputs": [],
   "source": []
  },
  {
   "cell_type": "code",
   "execution_count": null,
   "metadata": {
    "id": "TcaziQ57_WsG"
   },
   "outputs": [],
   "source": []
  }
 ],
 "metadata": {
  "colab": {
   "authorship_tag": "ABX9TyNKaxvg8yWxGbLnfeh+YD5x",
   "provenance": []
  },
  "kernelspec": {
   "display_name": "Python 3",
   "name": "python3"
  },
  "language_info": {
   "codemirror_mode": {
    "name": "ipython",
    "version": 3
   },
   "file_extension": ".py",
   "mimetype": "text/x-python",
   "name": "python",
   "nbconvert_exporter": "python",
   "pygments_lexer": "ipython3",
   "version": "3.11.13"
  }
 },
 "nbformat": 4,
 "nbformat_minor": 0
}
