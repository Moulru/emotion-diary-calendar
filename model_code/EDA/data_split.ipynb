{
 "cells": [
  {
   "cell_type": "markdown",
   "id": "f9d70524",
   "metadata": {},
   "source": [
    "# 데이터셋 나누기 (Yolo 학습용)"
   ]
  },
  {
   "cell_type": "code",
   "execution_count": 4,
   "id": "41f623e2",
   "metadata": {},
   "outputs": [
    {
     "name": "stdout",
     "output_type": "stream",
     "text": [
      "🖼️ 그림 데이터 복사 중...\n"
     ]
    },
    {
     "name": "stdout",
     "output_type": "stream",
     "text": [
      "✅ 새로운 폴더로 분할 저장 완료\n"
     ]
    }
   ],
   "source": [
    "import os\n",
    "import shutil\n",
    "from torchvision import datasets, transforms\n",
    "from torch.utils.data import random_split\n",
    "\n",
    "# 기존 데이터 루트\n",
    "#photo_root = 'dataset/photo'\n",
    "drawing_root = '/workspace/origin_data/drawing3/'\n",
    "\n",
    "# 새 폴더 경로\n",
    "save_root = '/workspace/datasets/dataset2yolo/'\n",
    "\n",
    "# 하이퍼파라미터\n",
    "train_ratio = 0.8\n",
    "\n",
    "# 함수: 샘플들을 새로운 폴더로 복사\n",
    "def save_split(dataset, split, category, class_names):\n",
    "    for idx, (img_path, class_idx) in enumerate(dataset.samples):\n",
    "        if dataset[idx] not in split:\n",
    "            continue\n",
    "\n",
    "        label = class_names[class_idx]\n",
    "        filename = os.path.basename(img_path)\n",
    "        new_path = os.path.join(save_root, category, split[dataset[idx]], label)\n",
    "        os.makedirs(new_path, exist_ok=True)\n",
    "        shutil.copy(img_path, os.path.join(new_path, filename))\n",
    "\n",
    "# 함수: 분할된 데이터셋을 실제 경로로 나눠서 복사\n",
    "def split_and_copy(dataset, category):\n",
    "    train_size = int(train_ratio * len(dataset))\n",
    "    val_size = len(dataset) - train_size\n",
    "    train_set, val_set = random_split(dataset, [train_size, val_size])\n",
    "\n",
    "    # class 이름 확인\n",
    "    class_names = dataset.classes\n",
    "\n",
    "    for subset_name, subset in [('train', train_set), ('val', val_set)]:\n",
    "        for i in range(len(subset)):\n",
    "            img_path, label_idx = subset.dataset.samples[subset.indices[i]]\n",
    "            label_name = class_names[label_idx]\n",
    "            filename = os.path.basename(img_path)\n",
    "            new_path = os.path.join(save_root, category, subset_name, label_name)\n",
    "            os.makedirs(new_path, exist_ok=True)\n",
    "            shutil.copy(img_path, os.path.join(new_path, filename))\n",
    "\n",
    "# 실제로 실행\n",
    "#print(\"📁 사진 데이터 복사 중...\")\n",
    "#photo_dataset = datasets.ImageFolder(photo_root)\n",
    "#split_and_copy(photo_dataset, 'photo')\n",
    "\n",
    "print(\"🖼️ 그림 데이터 복사 중...\")\n",
    "drawing_dataset = datasets.ImageFolder(drawing_root)\n",
    "split_and_copy(drawing_dataset, 'drawing')\n",
    "\n",
    "print(\"✅ 새로운 폴더로 분할 저장 완료\")\n"
   ]
  }
 ],
 "metadata": {
  "kernelspec": {
   "display_name": "Python 3",
   "language": "python",
   "name": "python3"
  },
  "language_info": {
   "codemirror_mode": {
    "name": "ipython",
    "version": 3
   },
   "file_extension": ".py",
   "mimetype": "text/x-python",
   "name": "python",
   "nbconvert_exporter": "python",
   "pygments_lexer": "ipython3",
   "version": "3.11.13"
  }
 },
 "nbformat": 4,
 "nbformat_minor": 5
}
