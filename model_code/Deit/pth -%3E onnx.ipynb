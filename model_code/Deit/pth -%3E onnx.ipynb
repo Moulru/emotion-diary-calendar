{
 "cells": [
  {
   "cell_type": "code",
   "execution_count": null,
   "id": "d5a4afc9",
   "metadata": {},
   "outputs": [
    {
     "name": "stdout",
     "output_type": "stream",
     "text": [
      "✅ ONNX 변환 완료: deit_drawing2.onnx\n"
     ]
    }
   ],
   "source": [
    "import torch\n",
    "import timm\n",
    "\n",
    "# 1. 모델 생성 (학습에 사용한 것과 동일해야 함)\n",
    "model = timm.create_model(\"deit_base_patch16_224\", pretrained=False, num_classes=4, drop_rate=0.3)\n",
    "model.load_state_dict(torch.load(\"/workspace/models/DeiT/Deit_finetuned_drawing.pth\"))\n",
    "model.eval().cuda()  # GPU 사용 시\n",
    "\n",
    "# 2. 더미 입력 텐서 정의 (224x224 RGB 이미지 한 장)\n",
    "dummy_input = torch.randn(1, 3, 224, 224).cuda()\n",
    "\n",
    "# 3. ONNX로 저장\n",
    "torch.onnx.export(\n",
    "    model,\n",
    "    dummy_input,\n",
    "    \"deit_drawing.onnx\",  # 저장 파일명\n",
    "    input_names=[\"input\"],\n",
    "    output_names=[\"output\"],\n",
    "    opset_version=15,\n",
    "    export_params=True,\n",
    "    do_constant_folding=False # 상수 폴더(옵티마이저랑 비슷?)\n",
    ")\n",
    "\n",
    "print(\"✅ ONNX 변환 완료: deit_drawing2.onnx\")\n"
   ]
  },
  {
   "cell_type": "code",
   "execution_count": 8,
   "id": "bf03ded4",
   "metadata": {},
   "outputs": [],
   "source": [
    "class_info = {\n",
    "    \"0\": \"angry\",\n",
    "    \"1\": \"fear\",\n",
    "    \"2\": \"happy\",\n",
    "    \"3\": \"sad\"\n",
    "}\n",
    "\n",
    "# 저장\n",
    "with open(\"class_info.json\", \"w\") as f:\n",
    "    json.dump(class_info, f)"
   ]
  },
  {
   "cell_type": "code",
   "execution_count": 11,
   "id": "ae865dec",
   "metadata": {},
   "outputs": [
    {
     "name": "stdout",
     "output_type": "stream",
     "text": [
      "✅ 예측 결과: sad\n"
     ]
    }
   ],
   "source": [
    "import onnxruntime as ort\n",
    "from PIL import Image\n",
    "import torchvision.transforms as transforms\n",
    "import torch\n",
    "import numpy as np\n",
    "import json\n",
    "\n",
    "# ✅ 1. 모델 로드\n",
    "onnx_model_path = \"deit_drawing.onnx\"\n",
    "session = ort.InferenceSession(onnx_model_path)\n",
    "\n",
    "# ✅ 2. 클래스 정보 로드\n",
    "with open(\"class_info.json\", \"r\") as f:\n",
    "    class_info = json.load(f)  # { \"0\": \"happy\", \"1\": \"sad\", ... }\n",
    "\n",
    "# ✅ 3. 이미지 전처리 함수 정의\n",
    "transform = transforms.Compose([\n",
    "    transforms.Resize((224, 224)),\n",
    "    transforms.ToTensor(),\n",
    "    transforms.Normalize(mean=[0.5]*3, std=[0.5]*3)  # DeiT는 보통 mean=0.5, std=0.5 사용\n",
    "])\n",
    "\n",
    "# ✅ 4. 이미지 불러오기 및 전처리\n",
    "img = Image.open(\"/workspace/2.png\").convert(\"RGB\")\n",
    "input_tensor = transform(img).unsqueeze(0).numpy()  # (1, 3, 224, 224)\n",
    "\n",
    "# ✅ 5. ONNX 모델에 입력\n",
    "inputs = {session.get_inputs()[0].name: input_tensor}\n",
    "outputs = session.run(None, inputs)\n",
    "\n",
    "# ✅ 6. 예측 결과 해석\n",
    "logits = outputs[0]\n",
    "pred_class = int(np.argmax(logits))\n",
    "pred_label = class_info[str(pred_class)]\n",
    "\n",
    "print(f\"✅ 예측 결과: {pred_label}\")\n"
   ]
  }
 ],
 "metadata": {
  "kernelspec": {
   "display_name": "Python 3",
   "language": "python",
   "name": "python3"
  },
  "language_info": {
   "codemirror_mode": {
    "name": "ipython",
    "version": 3
   },
   "file_extension": ".py",
   "mimetype": "text/x-python",
   "name": "python",
   "nbconvert_exporter": "python",
   "pygments_lexer": "ipython3",
   "version": "3.11.13"
  }
 },
 "nbformat": 4,
 "nbformat_minor": 5
}
